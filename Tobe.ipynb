{
  "cells": [
    {
      "cell_type": "markdown",
      "metadata": {
        "id": "view-in-github",
        "colab_type": "text"
      },
      "source": [
        "<a href=\"https://colab.research.google.com/github/VictorTobe/EEE540-assignment/blob/main/Tobe.ipynb\" target=\"_parent\"><img src=\"https://colab.research.google.com/assets/colab-badge.svg\" alt=\"Open In Colab\"/></a>"
      ]
    },
    {
      "cell_type": "code",
      "execution_count": null,
      "metadata": {
        "id": "P7TkWqJBjC41"
      },
      "outputs": [],
      "source": [
        "# Import required libraries\n",
        "import tensorflow as tf\n",
        "from sklearn.datasets import load_iris\n",
        "from sklearn.model_selection import train_test_split\n",
        "from sklearn.preprocessing import StandardScaler\n",
        "from sklearn.metrics import accuracy_score, confusion_matrix"
      ]
    },
    {
      "cell_type": "code",
      "execution_count": null,
      "metadata": {
        "id": "590874B-jC45"
      },
      "outputs": [],
      "source": [
        "# Load the Iris dataset\n",
        "iris = load_iris()\n",
        "X = iris.data\n",
        "y = iris.target"
      ]
    },
    {
      "cell_type": "code",
      "execution_count": null,
      "metadata": {
        "id": "hnQ_nnTkjC45"
      },
      "outputs": [],
      "source": [
        "# Standardize the data\n",
        "scaler = StandardScaler()\n",
        "X_scaled = scaler.fit_transform(X)"
      ]
    },
    {
      "cell_type": "code",
      "execution_count": null,
      "metadata": {
        "id": "ToaoCrGvjC46"
      },
      "outputs": [],
      "source": [
        "# Split the data into training and testing sets\n",
        "X_train, X_test, y_train, y_test = train_test_split(X_scaled, y, test_size=0.3, random_state=42)"
      ]
    },
    {
      "cell_type": "code",
      "execution_count": null,
      "metadata": {
        "colab": {
          "base_uri": "https://localhost:8080/"
        },
        "id": "Vln4_95njC46",
        "outputId": "5c2753f1-3e1f-430b-b646-9d2665dbfc43"
      },
      "outputs": [
        {
          "output_type": "stream",
          "name": "stdout",
          "text": [
            "Epoch 1/50\n",
            "105/105 [==============================] - 1s 3ms/step - loss: 0.4604 - accuracy: 0.8381\n",
            "Epoch 2/50\n",
            "105/105 [==============================] - 0s 4ms/step - loss: 0.4399 - accuracy: 0.8381\n",
            "Epoch 3/50\n",
            "105/105 [==============================] - 0s 3ms/step - loss: 0.4228 - accuracy: 0.8476\n",
            "Epoch 4/50\n",
            "105/105 [==============================] - 0s 2ms/step - loss: 0.4088 - accuracy: 0.8476\n",
            "Epoch 5/50\n",
            "105/105 [==============================] - 0s 2ms/step - loss: 0.3963 - accuracy: 0.8476\n",
            "Epoch 6/50\n",
            "105/105 [==============================] - 0s 2ms/step - loss: 0.3856 - accuracy: 0.8476\n",
            "Epoch 7/50\n",
            "105/105 [==============================] - 0s 2ms/step - loss: 0.3764 - accuracy: 0.8571\n",
            "Epoch 8/50\n",
            "105/105 [==============================] - 0s 2ms/step - loss: 0.3677 - accuracy: 0.8667\n",
            "Epoch 9/50\n",
            "105/105 [==============================] - 0s 2ms/step - loss: 0.3594 - accuracy: 0.8571\n",
            "Epoch 10/50\n",
            "105/105 [==============================] - 0s 1ms/step - loss: 0.3525 - accuracy: 0.8667\n",
            "Epoch 11/50\n",
            "105/105 [==============================] - 0s 1ms/step - loss: 0.3454 - accuracy: 0.8667\n",
            "Epoch 12/50\n",
            "105/105 [==============================] - 0s 1ms/step - loss: 0.3396 - accuracy: 0.8667\n",
            "Epoch 13/50\n",
            "105/105 [==============================] - 0s 2ms/step - loss: 0.3337 - accuracy: 0.8762\n",
            "Epoch 14/50\n",
            "105/105 [==============================] - 0s 1ms/step - loss: 0.3291 - accuracy: 0.8762\n",
            "Epoch 15/50\n",
            "105/105 [==============================] - 0s 1ms/step - loss: 0.3236 - accuracy: 0.8762\n",
            "Epoch 16/50\n",
            "105/105 [==============================] - 0s 1ms/step - loss: 0.3188 - accuracy: 0.8762\n",
            "Epoch 17/50\n",
            "105/105 [==============================] - 0s 2ms/step - loss: 0.3147 - accuracy: 0.8762\n",
            "Epoch 18/50\n",
            "105/105 [==============================] - 0s 1ms/step - loss: 0.3102 - accuracy: 0.8857\n",
            "Epoch 19/50\n",
            "105/105 [==============================] - 0s 1ms/step - loss: 0.3064 - accuracy: 0.8952\n",
            "Epoch 20/50\n",
            "105/105 [==============================] - 0s 1ms/step - loss: 0.3023 - accuracy: 0.8952\n",
            "Epoch 21/50\n",
            "105/105 [==============================] - 0s 1ms/step - loss: 0.2991 - accuracy: 0.8952\n",
            "Epoch 22/50\n",
            "105/105 [==============================] - 0s 1ms/step - loss: 0.2949 - accuracy: 0.9143\n",
            "Epoch 23/50\n",
            "105/105 [==============================] - 0s 1ms/step - loss: 0.2914 - accuracy: 0.9143\n",
            "Epoch 24/50\n",
            "105/105 [==============================] - 0s 1ms/step - loss: 0.2885 - accuracy: 0.9143\n",
            "Epoch 25/50\n",
            "105/105 [==============================] - 0s 1ms/step - loss: 0.2850 - accuracy: 0.9143\n",
            "Epoch 26/50\n",
            "105/105 [==============================] - 0s 1ms/step - loss: 0.2819 - accuracy: 0.9143\n",
            "Epoch 27/50\n",
            "105/105 [==============================] - 0s 1ms/step - loss: 0.2787 - accuracy: 0.9048\n",
            "Epoch 28/50\n",
            "105/105 [==============================] - 0s 1ms/step - loss: 0.2759 - accuracy: 0.9143\n",
            "Epoch 29/50\n",
            "105/105 [==============================] - 0s 1ms/step - loss: 0.2733 - accuracy: 0.9143\n",
            "Epoch 30/50\n",
            "105/105 [==============================] - 0s 1ms/step - loss: 0.2703 - accuracy: 0.9143\n",
            "Epoch 31/50\n",
            "105/105 [==============================] - 0s 1ms/step - loss: 0.2675 - accuracy: 0.9143\n",
            "Epoch 32/50\n",
            "105/105 [==============================] - 0s 1ms/step - loss: 0.2649 - accuracy: 0.9143\n",
            "Epoch 33/50\n",
            "105/105 [==============================] - 0s 1ms/step - loss: 0.2623 - accuracy: 0.9143\n",
            "Epoch 34/50\n",
            "105/105 [==============================] - 0s 1ms/step - loss: 0.2599 - accuracy: 0.9143\n",
            "Epoch 35/50\n",
            "105/105 [==============================] - 0s 1ms/step - loss: 0.2574 - accuracy: 0.9143\n",
            "Epoch 36/50\n",
            "105/105 [==============================] - 0s 1ms/step - loss: 0.2548 - accuracy: 0.9143\n",
            "Epoch 37/50\n",
            "105/105 [==============================] - 0s 1ms/step - loss: 0.2527 - accuracy: 0.9238\n",
            "Epoch 38/50\n",
            "105/105 [==============================] - 0s 1ms/step - loss: 0.2503 - accuracy: 0.9238\n",
            "Epoch 39/50\n",
            "105/105 [==============================] - 0s 1ms/step - loss: 0.2488 - accuracy: 0.9143\n",
            "Epoch 40/50\n",
            "105/105 [==============================] - 0s 1ms/step - loss: 0.2463 - accuracy: 0.9238\n",
            "Epoch 41/50\n",
            "105/105 [==============================] - 0s 1ms/step - loss: 0.2442 - accuracy: 0.9238\n",
            "Epoch 42/50\n",
            "105/105 [==============================] - 0s 1ms/step - loss: 0.2421 - accuracy: 0.9238\n",
            "Epoch 43/50\n",
            "105/105 [==============================] - 0s 1ms/step - loss: 0.2399 - accuracy: 0.9238\n",
            "Epoch 44/50\n",
            "105/105 [==============================] - 0s 1ms/step - loss: 0.2375 - accuracy: 0.9238\n",
            "Epoch 45/50\n",
            "105/105 [==============================] - 0s 1ms/step - loss: 0.2356 - accuracy: 0.9238\n",
            "Epoch 46/50\n",
            "105/105 [==============================] - 0s 1ms/step - loss: 0.2336 - accuracy: 0.9238\n",
            "Epoch 47/50\n",
            "105/105 [==============================] - 0s 1ms/step - loss: 0.2321 - accuracy: 0.9238\n",
            "Epoch 48/50\n",
            "105/105 [==============================] - 0s 1ms/step - loss: 0.2299 - accuracy: 0.9238\n",
            "Epoch 49/50\n",
            "105/105 [==============================] - 0s 1ms/step - loss: 0.2282 - accuracy: 0.9238\n",
            "Epoch 50/50\n",
            "105/105 [==============================] - 0s 1ms/step - loss: 0.2260 - accuracy: 0.9143\n"
          ]
        },
        {
          "output_type": "execute_result",
          "data": {
            "text/plain": [
              "<keras.src.callbacks.History at 0x7e88bd699990>"
            ]
          },
          "metadata": {},
          "execution_count": 5
        }
      ],
      "source": [
        "# Define a simple Perceptron model using TensorFlow\n",
        "model = tf.keras.Sequential([\n",
        "    tf.keras.layers.Dense(3, activation='softmax', input_shape=(4,))\n",
        "])\n",
        "\n",
        "# Compile the model\n",
        "model.compile(optimizer='adam', loss='sparse_categorical_crossentropy', metrics=['accuracy'])\n",
        "\n",
        "# Train the model\n",
        "model.fit(X_train, y_train, epochs=50, batch_size=1, verbose=1)"
      ]
    },
    {
      "cell_type": "code",
      "execution_count": null,
      "metadata": {
        "colab": {
          "base_uri": "https://localhost:8080/"
        },
        "id": "ux_WkKCFjC47",
        "outputId": "a4eba884-057c-44ca-b829-7a285b494538"
      },
      "outputs": [
        {
          "output_type": "stream",
          "name": "stdout",
          "text": [
            "2/2 [==============================] - 0s 9ms/step\n"
          ]
        }
      ],
      "source": [
        "# Evaluate the model\n",
        "y_pred = model.predict(X_test)\n",
        "y_pred_classes = y_pred.argmax(axis=-1)"
      ]
    },
    {
      "cell_type": "code",
      "execution_count": null,
      "metadata": {
        "colab": {
          "base_uri": "https://localhost:8080/"
        },
        "id": "eEPwg3ILjC47",
        "outputId": "3edfff9b-c894-49f1-ce46-d9d9bd987753"
      },
      "outputs": [
        {
          "output_type": "stream",
          "name": "stdout",
          "text": [
            "Accuracy: 0.9111111111111111\n",
            "Confusion Matrix:\n",
            "[[19  0  0]\n",
            " [ 0  9  4]\n",
            " [ 0  0 13]]\n"
          ]
        }
      ],
      "source": [
        "# Calculate accuracy\n",
        "accuracy = accuracy_score(y_test, y_pred_classes)\n",
        "print(f\"Accuracy: {accuracy}\")\n",
        "\n",
        "# Calculate confusion matrix\n",
        "conf_matrix = confusion_matrix(y_test, y_pred_classes)\n",
        "print(f\"Confusion Matrix:\\n{conf_matrix}\")\n"
      ]
    }
  ],
  "metadata": {
    "kernelspec": {
      "display_name": ".venv",
      "language": "python",
      "name": "python3"
    },
    "language_info": {
      "codemirror_mode": {
        "name": "ipython",
        "version": 3
      },
      "file_extension": ".py",
      "mimetype": "text/x-python",
      "name": "python",
      "nbconvert_exporter": "python",
      "pygments_lexer": "ipython3",
      "version": "3.12.3"
    },
    "colab": {
      "provenance": [],
      "include_colab_link": true
    }
  },
  "nbformat": 4,
  "nbformat_minor": 0
}